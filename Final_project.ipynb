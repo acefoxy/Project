{
 "cells": [
  {
   "cell_type": "code",
   "execution_count": 3,
   "metadata": {},
   "outputs": [
    {
     "data": {
      "text/plain": [
       "'Link: http://varianceexplained.org/r/trump-tweets/'"
      ]
     },
     "execution_count": 3,
     "metadata": {},
     "output_type": "execute_result"
    }
   ],
   "source": [
    "import pandas as pd\n",
    "import matplotlib.pyplot as plt\n",
    "%matplotlib inline\n",
    "import seaborn as sns\n",
    "import numpy as np\n",
    "from collections import Counter\n",
    "from nltk import word_tokenize\n",
    "from nltk.corpus import stopwords\n",
    "import nltk\n",
    "import re\n",
    "import string\n",
    "\n",
    "\n",
    "\n",
    "'Link: http://varianceexplained.org/r/trump-tweets/'"
   ]
  },
  {
   "cell_type": "code",
   "execution_count": 5,
   "metadata": {},
   "outputs": [
    {
     "data": {
      "text/plain": [
       "(3242, 7)"
      ]
     },
     "execution_count": 5,
     "metadata": {},
     "output_type": "execute_result"
    }
   ],
   "source": [
    "tweets = pd.read_csv('trump_tweets_df.csv',encoding='latin1')\n",
    "tweets = pd.read_csv('realDonaldTrump_tweets.csv',encoding='latin1')\n",
    "\n",
    "\n",
    "tweets.shape"
   ]
  },
  {
   "cell_type": "code",
   "execution_count": 35,
   "metadata": {},
   "outputs": [
    {
     "ename": "AttributeError",
     "evalue": "'DataFrame' object has no attribute 'statusSource'",
     "output_type": "error",
     "traceback": [
      "\u001b[0;31m---------------------------------------------------------------------------\u001b[0m",
      "\u001b[0;31mAttributeError\u001b[0m                            Traceback (most recent call last)",
      "\u001b[0;32m<ipython-input-35-18dcb7e90343>\u001b[0m in \u001b[0;36m<module>\u001b[0;34m()\u001b[0m\n\u001b[0;32m----> 1\u001b[0;31m \u001b[0mtweets_android\u001b[0m \u001b[0;34m=\u001b[0m \u001b[0mtweets\u001b[0m\u001b[0;34m[\u001b[0m\u001b[0mtweets\u001b[0m\u001b[0;34m.\u001b[0m\u001b[0mstatusSource\u001b[0m\u001b[0;34m.\u001b[0m\u001b[0mstr\u001b[0m\u001b[0;34m.\u001b[0m\u001b[0mcontains\u001b[0m\u001b[0;34m(\u001b[0m\u001b[0;34m'android'\u001b[0m\u001b[0;34m)\u001b[0m\u001b[0;34m]\u001b[0m\u001b[0;34m\u001b[0m\u001b[0m\n\u001b[0m\u001b[1;32m      2\u001b[0m \u001b[0mtweets_iphone\u001b[0m \u001b[0;34m=\u001b[0m \u001b[0mtweets\u001b[0m\u001b[0;34m[\u001b[0m\u001b[0mtweets\u001b[0m\u001b[0;34m.\u001b[0m\u001b[0mstatusSource\u001b[0m\u001b[0;34m.\u001b[0m\u001b[0mstr\u001b[0m\u001b[0;34m.\u001b[0m\u001b[0mcontains\u001b[0m\u001b[0;34m(\u001b[0m\u001b[0;34m'iphone'\u001b[0m\u001b[0;34m)\u001b[0m\u001b[0;34m]\u001b[0m\u001b[0;34m\u001b[0m\u001b[0m\n\u001b[1;32m      3\u001b[0m \u001b[0mtweets_android\u001b[0m\u001b[0;34m[\u001b[0m\u001b[0;34m'created'\u001b[0m\u001b[0;34m]\u001b[0m \u001b[0;34m=\u001b[0m \u001b[0mpd\u001b[0m\u001b[0;34m.\u001b[0m\u001b[0mto_datetime\u001b[0m\u001b[0;34m(\u001b[0m\u001b[0mtweets_android\u001b[0m\u001b[0;34m[\u001b[0m\u001b[0;34m'created'\u001b[0m\u001b[0;34m]\u001b[0m\u001b[0;34m)\u001b[0m\u001b[0;34m\u001b[0m\u001b[0m\n\u001b[1;32m      4\u001b[0m \u001b[0mtweets_iphone\u001b[0m\u001b[0;34m[\u001b[0m\u001b[0;34m'created'\u001b[0m\u001b[0;34m]\u001b[0m \u001b[0;34m=\u001b[0m \u001b[0mpd\u001b[0m\u001b[0;34m.\u001b[0m\u001b[0mto_datetime\u001b[0m\u001b[0;34m(\u001b[0m\u001b[0mtweets_iphone\u001b[0m\u001b[0;34m[\u001b[0m\u001b[0;34m'created'\u001b[0m\u001b[0;34m]\u001b[0m\u001b[0;34m)\u001b[0m\u001b[0;34m\u001b[0m\u001b[0m\n\u001b[1;32m      5\u001b[0m \u001b[0;34m\u001b[0m\u001b[0m\n",
      "\u001b[0;32m~/.local/lib/python3.5/site-packages/pandas/core/generic.py\u001b[0m in \u001b[0;36m__getattr__\u001b[0;34m(self, name)\u001b[0m\n\u001b[1;32m   3612\u001b[0m             \u001b[0;32mif\u001b[0m \u001b[0mname\u001b[0m \u001b[0;32min\u001b[0m \u001b[0mself\u001b[0m\u001b[0;34m.\u001b[0m\u001b[0m_info_axis\u001b[0m\u001b[0;34m:\u001b[0m\u001b[0;34m\u001b[0m\u001b[0m\n\u001b[1;32m   3613\u001b[0m                 \u001b[0;32mreturn\u001b[0m \u001b[0mself\u001b[0m\u001b[0;34m[\u001b[0m\u001b[0mname\u001b[0m\u001b[0;34m]\u001b[0m\u001b[0;34m\u001b[0m\u001b[0m\n\u001b[0;32m-> 3614\u001b[0;31m             \u001b[0;32mreturn\u001b[0m \u001b[0mobject\u001b[0m\u001b[0;34m.\u001b[0m\u001b[0m__getattribute__\u001b[0m\u001b[0;34m(\u001b[0m\u001b[0mself\u001b[0m\u001b[0;34m,\u001b[0m \u001b[0mname\u001b[0m\u001b[0;34m)\u001b[0m\u001b[0;34m\u001b[0m\u001b[0m\n\u001b[0m\u001b[1;32m   3615\u001b[0m \u001b[0;34m\u001b[0m\u001b[0m\n\u001b[1;32m   3616\u001b[0m     \u001b[0;32mdef\u001b[0m \u001b[0m__setattr__\u001b[0m\u001b[0;34m(\u001b[0m\u001b[0mself\u001b[0m\u001b[0;34m,\u001b[0m \u001b[0mname\u001b[0m\u001b[0;34m,\u001b[0m \u001b[0mvalue\u001b[0m\u001b[0;34m)\u001b[0m\u001b[0;34m:\u001b[0m\u001b[0;34m\u001b[0m\u001b[0m\n",
      "\u001b[0;31mAttributeError\u001b[0m: 'DataFrame' object has no attribute 'statusSource'"
     ]
    }
   ],
   "source": [
    "tweets_android = tweets[tweets.statusSource.str.contains('android')]\n",
    "tweets_iphone = tweets[tweets.statusSource.str.contains('iphone')]\n",
    "tweets_android['created'] = pd.to_datetime(tweets_android['created'])\n",
    "tweets_iphone['created'] = pd.to_datetime(tweets_iphone['created'])\n",
    "\n",
    "\n",
    "len(tweets_android), len(tweets_iphone)"
   ]
  },
  {
   "cell_type": "code",
   "execution_count": null,
   "metadata": {},
   "outputs": [],
   "source": []
  },
  {
   "cell_type": "code",
   "execution_count": null,
   "metadata": {},
   "outputs": [],
   "source": [
    "tweets_android.retweetCount.mean(),tweets_iphone.retweetCount.mean()"
   ]
  },
  {
   "cell_type": "code",
   "execution_count": null,
   "metadata": {},
   "outputs": [],
   "source": [
    "tweets_android.favoriteCount.mean(),tweets_iphone.favoriteCount.mean()"
   ]
  },
  {
   "cell_type": "code",
   "execution_count": null,
   "metadata": {},
   "outputs": [],
   "source": [
    "tweets['created'] = pd.to_datetime(tweets['created'])"
   ]
  },
  {
   "cell_type": "code",
   "execution_count": null,
   "metadata": {},
   "outputs": [],
   "source": [
    "#Tweeter usage over the day between iphone and android\n",
    "\n",
    "android = dict(Counter(np.array(tweets_android.created.dt.hour)))\n",
    "iphone = dict(Counter(np.array(tweets_iphone.created.dt.hour)))\n",
    "\n",
    "#sns.distplot(android,color='red',bins=24)\n",
    "#sns.distplot(iphone,color='blue',bins=24)\n",
    "#plt.hist(i,color='blue')\n",
    "\n",
    "androidLists = sorted(android.items()) # sorted by key, return a list of tuples\n",
    "iphoneLists = sorted(iphone.items())\n",
    "\n",
    "androidX, androidY = zip(*androidLists) # unpack a list of pairs into two tuples\n",
    "iphoneX, iphoneY = zip(*iphoneLists)\n",
    "\n",
    "plt.plot(androidX, androidY)\n",
    "plt.plot(iphoneX,iphoneY)\n",
    "plt.title('Android Vs iPhone usage over the day')\n",
    "plt.legend(['android','iphone'])\n",
    "plt.show()"
   ]
  },
  {
   "cell_type": "code",
   "execution_count": null,
   "metadata": {},
   "outputs": [],
   "source": [
    "#android tweets\n",
    "qat = tweets_android[tweets_android.text.str.contains('\"')]\n",
    "nqat = tweets_android[~tweets_android.text.str.contains('\"')]\n",
    "at = (len(qat),len(nqat))\n",
    "\n",
    "#iphone tweets\n",
    "qit = tweets_iphone[tweets_iphone.text.str.contains('\"')]\n",
    "nqit = tweets_iphone[~tweets_iphone.text.str.contains('\"')]\n",
    "it = (len(qit),len(nqit))\n",
    "\n",
    "fig, ax = plt.subplots()\n",
    "index = np.arange(2)\n",
    "bar_width = 0.35\n",
    "rectsA = plt.bar(index,at,bar_width,alpha=0.8, label=\"Android\")\n",
    "rectsB = plt.bar(index+bar_width,it,bar_width,alpha=0.8, label=\"iPhone\")\n",
    "plt.ylabel('tweets'),\n",
    "plt.xticks(index + bar_width, ('quoted', 'not quoted'))\n",
    "plt.legend()\n",
    "plt.tight_layout()\n",
    "plt.title('quoted tweets Android vs iPhone ')\n",
    "plt.show()\n"
   ]
  },
  {
   "cell_type": "code",
   "execution_count": null,
   "metadata": {},
   "outputs": [],
   "source": [
    "#android tweets\n",
    "lat = tweets_android[tweets_android.text.str.contains('t.co')]\n",
    "nlat = tweets_android[~tweets_android.text.str.contains('t.co')]\n",
    "at = (len(lat),len(nlat))\n",
    "\n",
    "#iphone tweets\n",
    "lit = tweets_iphone[tweets_iphone.text.str.contains('t.co')]\n",
    "nlit = tweets_iphone[~tweets_iphone.text.str.contains('t.co')]\n",
    "it = (len(lit),len(nlit))\n",
    "\n",
    "fig, ax = plt.subplots()\n",
    "index = np.arange(2)\n",
    "bar_width = 0.35\n",
    "rectsA = plt.bar(index,at,bar_width,alpha=0.8, label=\"Android\")\n",
    "rectsB = plt.bar(index+bar_width,it,bar_width,alpha=0.8, label=\"iPhone\")\n",
    "plt.ylabel('tweets'),\n",
    "plt.xticks(index + bar_width, ('With image/link', 'without image/link'))\n",
    "plt.legend()\n",
    "plt.tight_layout()\n",
    "plt.title('image tweets Android vs iPhone ')\n",
    "plt.show()"
   ]
  },
  {
   "cell_type": "code",
   "execution_count": null,
   "metadata": {},
   "outputs": [],
   "source": [
    "\n",
    "#android tweets\n",
    "lat = tweets_android[tweets_android.text.str.contains(r'\\b[A-Z]{4,}\\b')]\n",
    "nlat = tweets_android[~tweets_android.text.str.contains(r'\\b[A-Z]{4,}\\b')]\n",
    "at = (len(lat),len(nlat))\n",
    "\n",
    "#iphone tweets\n",
    "lit = tweets_iphone[tweets_iphone.text.str.contains(r'\\b[A-Z]{4,}\\b')]\n",
    "nlit = tweets_iphone[~tweets_iphone.text.str.contains(r'\\b[A-Z]{4,}\\b')]\n",
    "it = (len(lit),len(nlit))\n",
    "\n",
    "fig, ax = plt.subplots()\n",
    "index = np.arange(2)\n",
    "bar_width = 0.35\n",
    "rectsA = plt.bar(index,at,bar_width,alpha=0.8, label=\"Android\")\n",
    "rectsB = plt.bar(index+bar_width,it,bar_width,alpha=0.8, label=\"iPhone\")\n",
    "plt.ylabel('tweets')\n",
    "plt.xticks(index + bar_width, ('CAPPED words', 'No capped words'))\n",
    "plt.legend()\n",
    "plt.tight_layout()\n",
    "plt.title('Uppercase words Android vs iPhone ')\n",
    "plt.show()"
   ]
  },
  {
   "cell_type": "code",
   "execution_count": null,
   "metadata": {},
   "outputs": [],
   "source": [
    "#sentiment analysis based on textblob sentiment\n",
    "from textblob import TextBlob\n",
    "\n",
    "tweets_android[['polarity', 'subjectivity']] = tweets_android.text.apply(lambda Text: pd.Series(TextBlob(Text).sentiment))\n",
    "tweets_iphone[['polarity', 'subjectivity']] = tweets_iphone.text.apply(lambda Text: pd.Series(TextBlob(Text).sentiment))\n",
    "\n",
    "fig, ax = plt.subplots()\n",
    "ax.boxplot([tweets_android.polarity,tweets_iphone.polarity], showfliers=False)\n",
    "plt.ylabel('Sentiment')\n",
    "plt.xticks(np.arange(3),('','Android','iPhone'))\n",
    "plt.show"
   ]
  },
  {
   "cell_type": "code",
   "execution_count": null,
   "metadata": {},
   "outputs": [],
   "source": [
    "#wordcount\n",
    "words_android = str(tweets_android.text.values)\n",
    "words_android = \" \".join(re.findall(\"\\w+\", words_android))\n",
    "\n",
    "words_iphone = str(tweets_iphone.text.values)\n",
    "words_iphone = \" \".join(re.findall(\"\\w+\", words_iphone))\n",
    "\n",
    "\n",
    "stop = set(stopwords.words('english'))\n",
    "\n",
    "android = Counter([i for i in word_tokenize(words_android.lower()) if i not in stop]).most_common(10)\n",
    "iphone = Counter([i for i in word_tokenize(words_iphone.lower()) if i not in stop]).most_common(10)\n"
   ]
  },
  {
   "cell_type": "code",
   "execution_count": null,
   "metadata": {},
   "outputs": [],
   "source": [
    "tweets_android[['polarity', 'subjectivity']] = tweets_android.text.apply(lambda Text: pd.Series(TextBlob(Text).sentiment))\n",
    "tweets_iphone[['polarity', 'subjectivity']] = tweets_iphone.text.apply(lambda Text: pd.Series(TextBlob(Text).sentiment))\n",
    "\n",
    "fig, ax = plt.subplots()\n",
    "ax.boxplot([tweets_android.polarity,tweets_iphone.polarity], showfliers=False)\n",
    "plt.ylabel('Sentiment')\n",
    "plt.xticks(np.arange(3),('','Android','iPhone'))\n",
    "plt.show"
   ]
  },
  {
   "cell_type": "code",
   "execution_count": null,
   "metadata": {},
   "outputs": [],
   "source": [
    "fig, ax = plt.subplots()\n",
    "ax.boxplot([tweets_android[tweets_android.created > '2017-01-20'].polarity,tweets_iphone[tweets_iphone.created > '2017-01-20'].polarity], showfliers=False)\n",
    "plt.ylabel('Sentiment')\n",
    "plt.xticks(np.arange(3),('','Android','iPhone'))\n",
    "plt.show"
   ]
  },
  {
   "cell_type": "code",
   "execution_count": null,
   "metadata": {},
   "outputs": [],
   "source": [
    "tweets_iphone.sort_values(by=['created'], ascending=True) #[tweets_iphone.created > '2017-01-20']\n"
   ]
  },
  {
   "cell_type": "code",
   "execution_count": null,
   "metadata": {},
   "outputs": [],
   "source": []
  }
 ],
 "metadata": {
  "kernelspec": {
   "display_name": "Python 3",
   "language": "python",
   "name": "python3"
  },
  "language_info": {
   "codemirror_mode": {
    "name": "ipython",
    "version": 3
   },
   "file_extension": ".py",
   "mimetype": "text/x-python",
   "name": "python",
   "nbconvert_exporter": "python",
   "pygments_lexer": "ipython3",
   "version": "3.6.5"
  }
 },
 "nbformat": 4,
 "nbformat_minor": 2
}
