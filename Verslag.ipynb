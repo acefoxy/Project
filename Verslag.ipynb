{
 "cells": [
  {
   "cell_type": "markdown",
   "metadata": {},
   "source": [
    "## Methodology\n",
    "\n",
    "Methodology key section\n",
    "Data verzameling en beschrijving van de data\n",
    "Hoe is de data verzameld, en hoe heb jij die data verkregen?\n",
    "Wat staat er in de data? Niet alleen maar een technisch verhaal, maar ook inhoudelijk. DE lezer moet een goed idee krijgen over de technische inhoud en wat het betekent.\n",
    "Hoe je je vraag gaat beantwoorden.\n",
    "Dit is de langste sectie van je stuk. Als iets erg technisch wordt kan je het naar de Appendix verplaatsen. Probeer er een lopend verhaal van te maken."
   ]
  },
  {
   "cell_type": "markdown",
   "metadata": {},
   "source": [
    "* Hoe is de data verzameld, en hoe heb jij die data verkregen?\n",
    "\n",
    "De data is op twee manieren verzameld. Ten eerste hebben we de originele, naar csv omgezette, file van Maarten Marx gekregen omdat de originele file alleen geschikt was om in R ingelezen te worden. Het originele onderzoek is immers in R gemaakt en wij doen het in Python. Deze file bevat tweets van medio 2016 en dus in campagnetijd. Deze file bestaat uit zo'n 1500 regels.\n",
    "\n",
    "Vervolgens is met behulp van een python script (https://github.com/JRMeyer/twitter/blob/master/get_user_tweets.py). Een recentere file gedownload met tweets uit Februari. Deze file bestaat uit zo'n 3400 regels.\n",
    "\n",
    "\n",
    "Wat staat er in de data?\n",
    "\n",
    "De gebruikte kolommen zijn tijd, de tijd waarom de tweet is verstuurd. (in UTC). De tekst. De client om te kunnen splitten tussen Android en iPhone. Er zijn wel meer devices zoals Twitter for iPad en Twitter for Web maar alleen deze twee zijn gebruikt omdat het originele onderzoek ook verschil maakte tussen deze twee en daarnaast kwamen deze twee clients substantieel meer voor dan de andere clients. Daarnaast Fav en RT om te zien of daar nog echte verschillen zijn.\n",
    "\n",
    "De files waren direct klaar om te worden ingelezen in pandas. Wel is de tijd kolom met pd.todatetime omgezet om daarmee grafieken te maken.\n",
    "* Beschrijvingen van de datasets\n",
    "\n",
    "\n",
    "Dataset 1: augustus 2016\n",
    "count = (762, 628)\n",
    "\n",
    "fav = (19279.07874015748, 18285.004777070062)\n",
    "\n",
    "RT = (6262.1010498687665, 6648.130573248408)\n",
    "\n",
    "De aantallen komen ongeveer overeen. Favorieten en RT's ook. \n",
    "\n",
    "Dataset 2: februari 2018\n",
    "count = (565, 2551)\n",
    "\n",
    "fav = 91386.67610619469 72617.33790670325\n",
    "\n",
    "RT = 21975.22831858407 18529.069384555078\n",
    "\n",
    "Er zijn hier veel meer iPhone tweets dan Android tweets. Ook de gemiddelden lopen wat meer uit elkaar.\n",
    "\n",
    "Grosso modo kan worden gezegd dat de Android tweets meer worden gefavoriet dan de iPhone tweets.\n",
    "\n",
    "De vraag wordt beantwoord door de verschillende kolommen met elkaar te vergelijken en een sentimentsanalyse uit te voeren over de tekst. \n",
    "\n"
   ]
  },
  {
   "cell_type": "code",
   "execution_count": null,
   "metadata": {},
   "outputs": [],
   "source": []
  }
 ],
 "metadata": {
  "kernelspec": {
   "display_name": "Python 3",
   "language": "python",
   "name": "python3"
  },
  "language_info": {
   "codemirror_mode": {
    "name": "ipython",
    "version": 3
   },
   "file_extension": ".py",
   "mimetype": "text/x-python",
   "name": "python",
   "nbconvert_exporter": "python",
   "pygments_lexer": "ipython3",
   "version": "3.6.5"
  }
 },
 "nbformat": 4,
 "nbformat_minor": 2
}
