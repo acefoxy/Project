{
 "cells": [
  {
   "cell_type": "markdown",
   "metadata": {},
   "source": [
    "## Methodology\n",
    "\n",
    "Methodology key section\n",
    "Data verzameling en beschrijving van de data\n",
    "Hoe is de data verzameld, en hoe heb jij die data verkregen?\n",
    "Wat staat er in de data? Niet alleen maar een technisch verhaal, maar ook inhoudelijk. DE lezer moet een goed idee krijgen over de technische inhoud en wat het betekent.\n",
    "Hoe je je vraag gaat beantwoorden.\n",
    "Dit is de langste sectie van je stuk. Als iets erg technisch wordt kan je het naar de Appendix verplaatsen. Probeer er een lopend verhaal van te maken."
   ]
  },
  {
   "cell_type": "markdown",
   "metadata": {},
   "source": [
    "* Hoe is de data verzameld, en hoe heb jij die data verkregen?\n",
    "\n",
    "De data is op twee manieren verzameld. Ten eerste hebben we de originele, naar csv omgezette, file van Maarten Marx gekregen omdat de originele file alleen geschikt was om in R ingelezen te worden. Het originele onderzoek is immers in R gemaakt en wij doen het in Python. Deze file bevat tweets van medio 2016 en dus in campagnetijd. Deze file bestaat uit zo'n 1500 regels.\n",
    "\n",
    "Vervolgens is met behulp van een python script (https://github.com/JRMeyer/twitter/blob/master/get_user_tweets.py). Een recentere file gedownload met tweets uit Februari. Deze file bestaat uit zo'n 3400 regels.\n",
    "\n",
    "\n",
    "Wat staat er in de data?\n",
    "\n",
    "De gebruikte kolommen zijn tijd, de tijd waarom de tweet is verstuurd. (in UTC). De tekst. De client om te kunnen splitten tussen Android en iPhone. Er zijn wel meer devices zoals Twitter for iPad en Twitter for Web maar alleen deze twee zijn gebruikt omdat het originele onderzoek ook verschil maakte tussen deze twee en daarnaast kwamen deze twee clients substantieel meer voor dan de andere clients. Daarnaast Fav en RT om te zien of daar nog echte verschillen zijn.\n",
    "\n",
    "De files waren direct klaar om te worden ingelezen in pandas. Wel is de tijd kolom met pd.todatetime omgezet om daarmee grafieken te maken.\n",
    "* Beschrijvingen van de datasets\n",
    "\n",
    "\n",
    "Dataset 1: augustus 2016\n",
    "count = (762, 628)\n",
    "\n",
    "fav = (19279.07874015748, 18285.004777070062)\n",
    "\n",
    "RT = (6262.1010498687665, 6648.130573248408)\n",
    "\n",
    "De aantallen komen ongeveer overeen. Favorieten en RT's ook. \n",
    "\n",
    "Dataset 2: februari 2018\n",
    "count = (565, 2551)\n",
    "\n",
    "fav = 91386.67610619469 72617.33790670325\n",
    "\n",
    "RT = 21975.22831858407 18529.069384555078\n",
    "\n",
    "Er zijn hier veel meer iPhone tweets dan Android tweets. Ook de gemiddelden lopen wat meer uit elkaar.\n",
    "\n",
    "Grosso modo kan worden gezegd dat de Android tweets meer worden gefavoriet dan de iPhone tweets.\n",
    "\n",
    "De vraag wordt beantwoord door de verschillende kolommen met elkaar te vergelijken en een sentimentsanalyse uit te voeren over de tekst. \n",
    "\n"
   ]
  },
  {
   "cell_type": "markdown",
   "metadata": {},
   "source": [
    "### Tweets gedurende de dag\n",
    "Voor de analyse om te kijken naar wanneer op de dag het meeste tweets verstuurt worden is in beide datasets gekeken naar de column \"created_at\". Hier zijn vervolgens alleen naar de hele uren gekeken, een tweet die bijvoorbeeld verzonden is op 13:45 word gezien als 13:00.\n",
    "<table>\n",
    "<tr>\n",
    "<td><img src=\"images/tweetsOverDayBefore.png\"></td>\n",
    "<td><img src=\"images/tweetsOverDayDuring.png\"></td>\n",
    "</tr>\n",
    "</table>"
   ]
  },
  {
   "cell_type": "markdown",
   "metadata": {},
   "source": [
    "### Tweets met referenties\n",
    "\n",
    "Voor de analyse op quoted tweets zijn alle tweets gepakt die minstend een keer een \" bevatten. en vervolgens ook alle tweets die geen \" in de tekst hadden staan.\n",
    "<table>\n",
    "<tr>\n",
    "<td><img src=\"images/quotedBefore.png\"></td>\n",
    "<td><img src=\"images/quotedDuring.png\"></td>\n",
    "</tr>\n",
    "</table>"
   ]
  },
  {
   "cell_type": "markdown",
   "metadata": {},
   "source": [
    "### Tweets met afbeelding of url\n",
    "\n",
    "\n",
    "Voor de analyse op tweets die een afbeelding of links naar externe websites bevatten zijn alle tweets gepakt waar in \"t.co\" te vinden is. Het \"t.co\" is de url shortnener die Twitter gebruikt om linkjes te verkleinen, dit passen ze toe op zowel afbeeldingen als de linkjes zelf\n",
    "<table>\n",
    "<tr>\n",
    "<td><img src=\"images/imagesBefore.png\"></td>\n",
    "<td><img src=\"images/imagesDuring.png\"></td>\n",
    "</tr>\n",
    "</table>"
   ]
  },
  {
   "cell_type": "markdown",
   "metadata": {},
   "source": [
    "### Tweets met worden in CAPS\n",
    "\n",
    "Om te schreeuwen in een Tweet is natuurlijk lastig omdat mensen je niet kunnen horen, als alternatief hier op zie je vaak dat mensen de berichten volledig in CAPS LOCK (hoofdletters) schrijven.\n",
    "Voor het vinden van alle tweets die worden bevatten die volledig in CAPS geschreven zijn is een regex formule gebruikt: `\\b[A-Z]{4,}\\b` hier komen alle worden uit die minimaal 4 letters lang zijn en volledig in hoofdletters geschreven zijn.\n",
    "\n",
    "<table>\n",
    "<tr>\n",
    "<td><img src=\"images/uppercaseBefore.png\"></td>\n",
    "<td><img src=\"images/uppercaseDuring.png\"></td>\n",
    "</tr>\n",
    "</table>"
   ]
  },
  {
   "cell_type": "markdown",
   "metadata": {},
   "source": [
    "### Sentiment analyse over tweets\n",
    "\n",
    "Om het sentiment van de tweets te analyseren is gebruik gemaakt van de python library textblob, deze geeft toegang tot een set veel gebruikte functies voor het analyseren van teksten. Hier zit ook een sentiment analyse functie op, die als uitkomst een waarde tussen -1 & 1 geeft, respetiefelijk negatief en possitief.\n",
    "Door middel van een lambda functie is deze sentiment analyse toegepast op alle tweets\n",
    "<table>\n",
    "<tr>\n",
    "<td><img src=\"images/sentimentBefore.png\"></td>\n",
    "<td><img src=\"images/sentimentDuring.png\"></td>\n",
    "</tr>\n",
    "</table>"
   ]
  },
  {
   "cell_type": "markdown",
   "metadata": {},
   "source": [
    "### Wordcloud van de tweets\n",
    "\n",
    "Het maken van de word clouds is gedaan met de python module wordcloud, als deze een string krijgt telt hij simpel weg hoevaak een word voorkomt en geeft deze een bepaalde groote. Voor een correcte werking hier van zijn dus alle tweets aan elkaar geplakt om zo een grote zin te maken.\n",
    "<table>\n",
    "<tr>\n",
    "<td><img src=\"images/wordAndroidBefore.png\"></td>\n",
    "<td><img src=\"images/wordIphoneBefore.png\"></td>\n",
    "</tr>\n",
    "<tr>\n",
    "<td><img src=\"images/wordAndroidDuring.png\"></td>\n",
    "<td><img src=\"images/wordIphoneDuring.png\"></td>\n",
    "</tr>\n",
    "</table>"
   ]
  },
  {
   "cell_type": "code",
   "execution_count": null,
   "metadata": {},
   "outputs": [],
   "source": []
  },
  {
   "cell_type": "code",
   "execution_count": null,
   "metadata": {},
   "outputs": [],
   "source": []
  }
 ],
 "metadata": {
  "kernelspec": {
   "display_name": "Python 3",
   "language": "python",
   "name": "python3"
  },
  "language_info": {
   "codemirror_mode": {
    "name": "ipython",
    "version": 3
   },
   "file_extension": ".py",
   "mimetype": "text/x-python",
   "name": "python",
   "nbconvert_exporter": "python",
   "pygments_lexer": "ipython3",
   "version": "3.5.2"
  }
 },
 "nbformat": 4,
 "nbformat_minor": 2
}
