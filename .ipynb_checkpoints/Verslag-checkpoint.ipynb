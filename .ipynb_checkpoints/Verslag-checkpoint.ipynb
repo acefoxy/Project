{
 "cells": [
  {
   "cell_type": "markdown",
   "metadata": {},
   "source": [
    "# Miniproject team covfefe\n",
    "\n",
    "### Pledge (taken from [Coursera's Honor Code](https://www.coursera.org/about/terms/honorcode) )\n",
    "\n",
    "<img src='https://i.imgur.com/6kyWC0F.jpg'/>\n",
    "\n",
    "Here's a link to the selfie of Nathalie: https://drive.google.com/file/d/0Bwf_OjYROxUTM3oxczlXdmhFeE0/view?usp=sharing\n",
    "\n",
    "<img src='http://i.imgur.com/txdwqsk.jpg'/>\n",
    "<img src='https://imgur.com/E4RHMBZ.jpg'/>\n",
    "\n",
    "\n",
    "|** Name** | **Student id** | **email**|\n",
    "|:- |:-|:-|\n",
    "|Nick van Gilst | 10476555 | n.vangilst@gmail.com |\n",
    "|Hugo Prinse | 10679154 |  hugoprinse@gmail.com |\n",
    "|Nathalie Sinnema | 10386769 | n.sinnema@gmail.com |\n",
    "|Andreas Vos | 10779752 |   acefoxy@gmail.com|"
   ]
  },
  {
   "cell_type": "markdown",
   "metadata": {},
   "source": [
    "## Vergelijkend onderzoek naar de tweets van @realDonaldTrump in 2016 en 2018\n",
    "\n",
    "## Abstract\n",
    "Naar aanleiding van het artikel ‘Text analysis of Trump’s tweets confirms he writes only the (angrier) Android half’ in Variance Explained van David Robinson, waarin hij met behulp van tekst minig en sentiment analyse laat zien dat de tweets van @realDonaldTrump van zowel een iPhone als een Samsung verstuurd worden en duidelijk van verschillende mensen zijn, op verschillende tijden van de dag worden gepost en op verschillende manieren gebruik maken van #, links, foto’s en retweets, hebben wij in 2018 ook een sentiment analyse op de tweets van @realDonaldTrump uitgevoerd. En waar in 2016 de Android tweets bozer en negatiever zijn dan de iPhone tweets zien wij dat die verschillen met de nieuwe data minder groot zijn."
   ]
  },
  {
   "cell_type": "markdown",
   "metadata": {},
   "source": [
    "## Introduction\n",
    "De aanleiding voor ons mini-project is het artikel ‘Text analysis of Trump’s tweets confirms he writes only the (angrier) Android half’ in Variance Explained van David Robinson (Robinson, 2016) In dit artikel uit 2016 analyseert Robinson de tweets van Trump, omdat hem opvalt dat Trump vanaf een iPhone én vanaf een Samsung twittert. \n",
    "Bij zijn analyse maakt Robinson gebruik van R en past hij text mining en sentiment analyse toe. Sentiment analyse betreft de analyse of een bericht positief, of negatief wordt gebruikt. Sentiment analyse wordt bijvoorbeeld gebruikt om te weten te komen hoe mensen over een bepaald product denken, of om te peilen hoeveel steun een politieke partij heeft. \n",
    "De analyse kan plaatsvinden op basis van onderscheid tussen positieve en negatieve emoticons (Pak & Paroubek, 2010), of positieve, of negatieve woorden (Agarwal et al., 2011). \n",
    "\n",
    "Met behulp van text mining laat Robinson zien dat bijna alle tweets van de Android quotes bevatten, dat de iPhone veel meer gebruik maakt van #, foto’s en links, dat de iPhone meer woorden als ‘join’ en ‘tomorrow’ gebruikt, terwijl meer emotioneel beladen woorden zoals ‘badly’, ‘crazy’, ‘weak’ en ‘dumb’ overtuigend van de Android komen.\n",
    "Voor zijn sentiment analyse gebruikt Robinson tidytext package, dat woorden indeelt in 10 sentimenten: ‘positive’, ‘negative’, ‘anger’, ‘anticipation’, ‘disgust’, ‘fear’, ‘joy’, ‘sadness’, ‘surprise’ en ‘trust’. Hiermee laat hij zien dat het Android account 40-80% meer woorden gebruikt die aan ‘disgust’, ‘sadness’, ‘fear’, ‘anger’, en andere negatieve sentimenten gerelateerd zijn. \n",
    "\n",
    "Robinson concludeert dat de Android en iPhone tweets duidelijk van verschillende mensen zijn, op verschillende tijden van de dag worden gepost en op verschillende manieren gebruik maken van #, links, foto’s en retweets. Ook concludeert hij dat de Android tweets bozer en negatiever zijn en hij vermoed daarom dat de Android van Trump zelf is en de iPhone van z’n campagne team.\n",
    "\n",
    "Een jaar na dit onderzoek heeft Robinson (Robinson, 2017) opnieuw een analyse van het Twitteraccount @realDonaldTrump gedaan. Hierbij heeft hij nieuwe vragen gesteld en is op zoek gegaan naar specifieke woorden, zoals “Obama’, ‘Hillary’ en ‘fake’, als in ‘fake news’ en vooral naar wanneer Trump deze woorden is gaan gebruiken. 2016 was immers campagnetijd. Daarvoor deed Trump nog niet aan politiek en daarna was hij president. Robinson breidt de periode van de te onderzoeken tweets voor zijn onderzoek van 2017 uit van 2009 tot in 2017 en maakt een overzicht van de apparaten die voor het account @realDonaldTrump gebruikt worden en ontdekt dat Trump in maart 2017 van een Android is overgestapt naar een iPhone.\n",
    "\n",
    "Deze onderzoeken van David Robinson hebben ons geïnspireerd om weer een jaar later opnieuw een sentiment analyse te doen op de tweets van @realDonaldTrump. In het afgelopen jaar is er namelijk weer veel veranderd. Zo is het maximum aantal karakters van een tweet uitgebreid van 140 naar 280. Argwal et al (2011) concludeert dat de resultaten van sentiment analyse in Twitter niet verschilt van analyses in langere teksten, terwijl Mayo (2014) juist wel een relatie aantoont tussen de lengte en het sentiment van tweets.\n",
    "\n",
    "Dit alles gelezen hebbende heeft ons de volgende onderzoeksvraag doen stellen: \n",
    "‘In hoeverre zijn er verschillen tussen de tweets van @realDonaldTrump in 2016 en 2018 van de Android en iPhone?\n"
   ]
  },
  {
   "cell_type": "markdown",
   "metadata": {},
   "source": [
    "## Related work\n",
    "\n",
    "Robinson, D. (2016). Text analysis of Trump’s tweets confirms he writes only the (angrier) Android half. Variance Explained, 9.\n",
    "http://varianceexplained.org/r/trump-tweets/\n",
    "\n",
    "Robinson, D. (2017). Trump's Android and iPhone tweets, one year later. Variance Explained.\n",
    "http://varianceexplained.org/r/trump-followup/ \n",
    "\n",
    "Agarwal, A., Xie, B., Vovsha, I., Rambow, O., & Passonneau, R. (2011, June). Sentiment analysis of twitter data. In Proceedings of the workshop on languages in social media (pp. 30-38). Association for Computational Linguistics.\n",
    "https://dl.acm.org/citation.cfm?id=2021114 \n",
    "\n",
    "Martínez-Cámara, E., Martín-Valdivia, M. T., Urena-López, L. A., & Montejo-Ráez, A. R. (2014). Sentiment analysis in Twitter. Natural Language Engineering, 20(1), 1-28.\n",
    "https://www.cambridge.org/core/journals/natural-language-engineering/article/sentiment-analysis-in-twitter/C280284A1605F87138C7AA57E904D95C \n",
    "\n",
    "Mayo, M. (2014). A Clustering Analysis of Tweet Length and its Relation to Sentiment. arXiv preprint arXiv:1406.3287.\n",
    "https://arxiv.org/abs/1406.3287 \n",
    "\n",
    "Pak, A., & Paroubek, P. (2010, May). Twitter as a corpus for sentiment analysis and opinion mining. In LREc (Vol. 10, No. 2010)."
   ]
  },
  {
   "cell_type": "markdown",
   "metadata": {},
   "source": [
    "## Methodology\n",
    "\n"
   ]
  },
  {
   "cell_type": "markdown",
   "metadata": {},
   "source": [
    "* Hoe is de data verzameld, en hoe heb jij die data verkregen?\n",
    "\n",
    "De data is op twee manieren verzameld. Ten eerste hebben we de originele, naar csv omgezette, file van Maarten Marx gekregen omdat de originele file alleen geschikt was om in R ingelezen te worden. Het originele onderzoek is immers in R gemaakt en wij doen het in Python. Deze file bevat tweets van medio 2016 en dus in campagnetijd. Deze file bestaat uit zo'n 1500 regels.\n",
    "\n",
    "Vervolgens is met behulp van een python script (https://github.com/JRMeyer/twitter/blob/master/get_user_tweets.py). Een recentere file gedownload met tweets uit Februari. Deze file bestaat uit zo'n 3400 regels.\n",
    "\n",
    "\n",
    "Wat staat er in de data?\n",
    "\n",
    "De gebruikte kolommen zijn tijd, de tijd waarom de tweet is verstuurd. (in UTC). De tekst. De client om te kunnen splitten tussen Android en iPhone. Er zijn wel meer devices zoals Twitter for iPad en Twitter for Web maar alleen deze twee zijn gebruikt omdat het originele onderzoek ook verschil maakte tussen deze twee en daarnaast kwamen deze twee clients substantieel meer voor dan de andere clients. Daarnaast Fav en RT om te zien of daar nog echte verschillen zijn.\n",
    "\n",
    "De files waren direct klaar om te worden ingelezen in pandas. Wel is de tijd kolom met pd.todatetime omgezet om daarmee grafieken te maken.\n",
    "* Beschrijvingen van de datasets\n",
    "\n",
    "\n",
    "Dataset 1: augustus 2016\n",
    "count = (762, 628)\n",
    "\n",
    "fav = (19279.07874015748, 18285.004777070062)\n",
    "\n",
    "RT = (6262.1010498687665, 6648.130573248408)\n",
    "\n",
    "De aantallen komen ongeveer overeen. Favorieten en RT's ook. \n",
    "\n",
    "Dataset 2: februari 2018\n",
    "count = (565, 2551)\n",
    "\n",
    "fav = 91386.67610619469 72617.33790670325\n",
    "\n",
    "RT = 21975.22831858407 18529.069384555078\n",
    "\n",
    "Er zijn hier veel meer iPhone tweets dan Android tweets. Ook de gemiddelden lopen wat meer uit elkaar.\n",
    "\n",
    "Grosso modo kan worden gezegd dat de Android tweets meer worden gefavoriet dan de iPhone tweets.\n",
    "\n",
    "De vraag wordt beantwoord door de verschillende kolommen met elkaar te vergelijken en een sentimentsanalyse uit te voeren over de tekst. \n",
    "\n"
   ]
  },
  {
   "cell_type": "markdown",
   "metadata": {},
   "source": [
    "## Evaluatie/Resultaten\n",
    "\n",
    "### Tweets gedurende de dag\n",
    "Voor de analyse om te kijken naar wanneer op de dag het meeste tweets verstuurt worden is in beide datasets gekeken naar de column \"created_at\". Hier zijn vervolgens alleen naar de hele uren gekeken, een tweet die bijvoorbeeld verzonden is op 13:45 word gezien als 13:00.\n",
    "<table>\n",
    "<tr>\n",
    "<td><img src=\"https://github.com/acefoxy/Project/images/tweetsOverDayBefore.png\"></td>\n",
    "<td><img src=\"https://github.com/acefoxy/Project/images/tweetsOverDayDuring.png\"></td>\n",
    "</tr>\n",
    "</table>"
   ]
  },
  {
   "cell_type": "markdown",
   "metadata": {},
   "source": [
    "### Tweets met referenties\n",
    "\n",
    "Voor de analyse op quoted tweets zijn alle tweets gepakt die minstend een keer een \" bevatten. en vervolgens ook alle tweets die geen \" in de tekst hadden staan.\n",
    "<table>\n",
    "<tr>\n",
    "<td><img src=\"https://github.com/acefoxy/Project/images/quotedBefore.png\"></td>\n",
    "<td><img src=\"https://github.com/acefoxy/Project/images/quotedDuring.png\"></td>\n",
    "</tr>\n",
    "</table>"
   ]
  },
  {
   "cell_type": "markdown",
   "metadata": {},
   "source": [
    "### Tweets met afbeelding of url\n",
    "\n",
    "\n",
    "Voor de analyse op tweets die een afbeelding of links naar externe websites bevatten zijn alle tweets gepakt waar in \"t.co\" te vinden is. Het \"t.co\" is de url shortnener die Twitter gebruikt om linkjes te verkleinen, dit passen ze toe op zowel afbeeldingen als de linkjes zelf\n",
    "<table>\n",
    "<tr>\n",
    "<td><img src=\"https://github.com/acefoxy/Project/images/imagesBefore.png\"></td>\n",
    "<td><img src=\"https://github.com/acefoxy/Project/images/imagesDuring.png\"></td>\n",
    "</tr>\n",
    "</table>"
   ]
  },
  {
   "cell_type": "markdown",
   "metadata": {},
   "source": [
    "### Tweets met worden in CAPS\n",
    "\n",
    "Om te schreeuwen in een Tweet is natuurlijk lastig omdat mensen je niet kunnen horen, als alternatief hier op zie je vaak dat mensen de berichten volledig in CAPS LOCK (hoofdletters) schrijven.\n",
    "Voor het vinden van alle tweets die worden bevatten die volledig in CAPS geschreven zijn is een regex formule gebruikt: `\\b[A-Z]{4,}\\b` hier komen alle worden uit die minimaal 4 letters lang zijn en volledig in hoofdletters geschreven zijn.\n",
    "\n",
    "<table>\n",
    "<tr>\n",
    "<td><img src=\"https://github.com/acefoxy/Project/images/uppercaseBefore.png\"></td>\n",
    "<td><img src=\"https://github.com/acefoxy/Project/images/uppercaseDuring.png\"></td>\n",
    "</tr>\n",
    "</table>"
   ]
  },
  {
   "cell_type": "markdown",
   "metadata": {},
   "source": [
    "### Sentiment analyse over tweets\n",
    "\n",
    "Om het sentiment van de tweets te analyseren is gebruik gemaakt van de python library textblob, deze geeft toegang tot een set veel gebruikte functies voor het analyseren van teksten. Hier zit ook een sentiment analyse functie op, die als uitkomst een waarde tussen -1 & 1 geeft, respetiefelijk negatief en possitief.\n",
    "Door middel van een lambda functie is deze sentiment analyse toegepast op alle tweets\n",
    "<table>\n",
    "<tr>\n",
    "<td><img src=\"https://github.com/acefoxy/Project/images/sentimentBefore.png\"></td>\n",
    "<td><img src=\"https://github.com/acefoxy/Project/images/sentimentDuring.png\"></td>\n",
    "</tr>\n",
    "</table>"
   ]
  },
  {
   "cell_type": "markdown",
   "metadata": {},
   "source": [
    "### Wordcloud van de tweets\n",
    "\n",
    "Het maken van de word clouds is gedaan met de python module wordcloud, als deze een string krijgt telt hij simpel weg hoevaak een word voorkomt en geeft deze een bepaalde groote. Voor een correcte werking hier van zijn dus alle tweets aan elkaar geplakt om zo een grote zin te maken.\n",
    "<table>\n",
    "<tr>\n",
    "<td><img src=\"https://github.com/acefoxy/Project/images/wordAndroidBefore.png\"></td>\n",
    "<td><img src=\"https://github.com/acefoxy/Project/images/wordIphoneBefore.png\"></td>\n",
    "</tr>\n",
    "<tr>\n",
    "<td><img src=\"https://github.com/acefoxy/Project/images/wordAndroidDuring.png\"></td>\n",
    "<td><img src=\"https://github.com/acefoxy/Project/images/wordIphoneDuring.png\"></td>\n",
    "</tr>\n",
    "</table>"
   ]
  },
  {
   "cell_type": "markdown",
   "metadata": {},
   "source": [
    "## Appendix\n",
    "\n",
    "https://github.com/acefoxy/Project/Final_project.ipynb\n",
    "\n",
    "https://github.com/acefoxy/Project/Tweet_trump.ipynb\n",
    "\n"
   ]
  },
  {
   "cell_type": "markdown",
   "metadata": {},
   "source": [
    "## Conclusie\n",
    "\n",
    "Concluderend, er blijft een verschil tussen de tweets verstuurd vanaf iPhone en Android. Ook zien we minimale verschillend tussen de tweets uit 2016 en 2018, in de inleiding gaven we al aan dat Robinson(2018) in zijn vervolg onderzoek erachter is gekomen dat Trump overgestapt was van een android naar een iPhone. Ook zien we dus een kleiner verschil tussen android en iPhone in 2018. Ook zijn er verschillen in de samplegrootte. iPhone en Android zijn dus niet meer zo geschikt om het verschil tussen tweets van Trump en tweets van zijn team uit elkaar te halen waar dan in 2016 wel kan. Er zal dus iets gevonden moeten worden om het alsnog te doen in de toekomst omdat het niet helemaal zuiver meer is.\n"
   ]
  },
  {
   "cell_type": "code",
   "execution_count": null,
   "metadata": {},
   "outputs": [],
   "source": [
    "!jupyter nbconvert Slides.ipynb --to slides --post serve"
   ]
  }
 ],
 "metadata": {
  "kernelspec": {
   "display_name": "Python 3",
   "language": "python",
   "name": "python3"
  },
  "language_info": {
   "codemirror_mode": {
    "name": "ipython",
    "version": 3
   },
   "file_extension": ".py",
   "mimetype": "text/x-python",
   "name": "python",
   "nbconvert_exporter": "python",
   "pygments_lexer": "ipython3",
   "version": "3.6.5"
  }
 },
 "nbformat": 4,
 "nbformat_minor": 2
}
