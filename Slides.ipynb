{
 "cells": [
  {
   "cell_type": "markdown",
   "metadata": {
    "slideshow": {
     "slide_type": "slide"
    }
   },
   "source": [
    "# Covfeve #\n",
    "\n",
    "\n",
    "\n",
    "### Vergelijkend onderzoek naar tweets over twee perioden van Trump\n",
    "\n",
    "\n",
    "Nathalie, Nick, Hugo, Andreas"
   ]
  },
  {
   "cell_type": "markdown",
   "metadata": {
    "slideshow": {
     "slide_type": "slide"
    }
   },
   "source": [
    "\n",
    "Robinson, D. (2016). Text analysis of Trump’s tweets confirms he writes only the (angrier) Android half. Variance Explained, 9.\n",
    "\n",
    "* textmining\n",
    "* woorden vergelijken\n",
    "* sentimentanalyse\n",
    "* conclusie\n",
    "\n",
    "\n",
    "\n",
    "\n"
   ]
  },
  {
   "cell_type": "markdown",
   "metadata": {
    "slideshow": {
     "slide_type": "slide"
    }
   },
   "source": [
    "### Zijn er verschillen tussen twee perioden tussen de Android en iPhone tweets van Trump? "
   ]
  },
  {
   "cell_type": "markdown",
   "metadata": {
    "slideshow": {
     "slide_type": "slide"
    }
   },
   "source": [
    "## Dataverzameling\n",
    "\n",
    "\n",
    "* Data van originele onderzoek\n",
    "\n",
    "* Eigen data met python script. (max 3400) \n",
    "\n",
    "\n",
    "* Gebruikte kolommen:\n",
    "\n",
    "* tijd - text - source - fav - rt\n",
    "\n",
    "\n",
    "\n"
   ]
  },
  {
   "cell_type": "markdown",
   "metadata": {
    "slideshow": {
     "slide_type": "slide"
    }
   },
   "source": [
    "## Statistieken\n",
    "\n",
    "\n",
    "#### Dataset 1: augustus 2016 \n",
    "count = (762, 628)\n",
    "\n",
    "fav = (19279.07874015748, 18285.004777070062)\n",
    "\n",
    "RT = (6262.1010498687665, 6648.130573248408)\n",
    "\n",
    "#### Dataset 2: februari 2018\n",
    "\n",
    "count = (565, 2551)\n",
    "\n",
    "fav = 91386.67610619469 72617.33790670325\n",
    "\n",
    "RT = 21975.22831858407 18529.069384555078"
   ]
  },
  {
   "cell_type": "markdown",
   "metadata": {
    "slideshow": {
     "slide_type": "slide"
    }
   },
   "source": [
    "\n",
    "\n",
    "<img src='https://imgur.com/HxelIo5.png'/>"
   ]
  },
  {
   "cell_type": "markdown",
   "metadata": {
    "slideshow": {
     "slide_type": "slide"
    }
   },
   "source": [
    "<img src='https://imgur.com/nMAv0tx.png'/>"
   ]
  },
  {
   "cell_type": "markdown",
   "metadata": {
    "slideshow": {
     "slide_type": "slide"
    }
   },
   "source": [
    "## Statistieken II\n",
    "\n",
    "<img src='https://imgur.com/stKcNTT.png'/>\n",
    "\n",
    "\n",
    "\n"
   ]
  },
  {
   "cell_type": "markdown",
   "metadata": {
    "slideshow": {
     "slide_type": "slide"
    }
   },
   "source": [
    "<img src='https://imgur.com/4IikQ4y.png'/>"
   ]
  },
  {
   "cell_type": "markdown",
   "metadata": {
    "slideshow": {
     "slide_type": "slide"
    }
   },
   "source": [
    "## Resultaten\n",
    "\n",
    "\n",
    "<img src='https://i.imgur.com/afdcAR4.png'/>\n",
    "\n",
    "\n",
    "\n",
    "\n"
   ]
  },
  {
   "cell_type": "markdown",
   "metadata": {
    "slideshow": {
     "slide_type": "slide"
    }
   },
   "source": [
    "<img src='https://i.imgur.com/9HAmACr.png'/>"
   ]
  },
  {
   "cell_type": "markdown",
   "metadata": {
    "slideshow": {
     "slide_type": "slide"
    }
   },
   "source": [
    "## Conclusie\n",
    "\n",
    "\n",
    "* Eerst groot verschil door campagne\n",
    "\n",
    "* nu presidentiteel en feitelijk 'braaf'\n",
    "\n",
    "* Andere verklaring: Gebruik van verschillende apparaten. Niet meer het verschil tussen Android en iPhone.\n",
    "\n"
   ]
  },
  {
   "cell_type": "code",
   "execution_count": null,
   "metadata": {},
   "outputs": [],
   "source": []
  },
  {
   "cell_type": "code",
   "execution_count": null,
   "metadata": {},
   "outputs": [
    {
     "name": "stdout",
     "output_type": "stream",
     "text": [
      "[NbConvertApp] Converting notebook Slides.ipynb to slides\n",
      "[NbConvertApp] Writing 260284 bytes to Slides.slides.html\n",
      "[NbConvertApp] Redirecting reveal.js requests to https://cdnjs.cloudflare.com/ajax/libs/reveal.js/3.5.0\n",
      "Serving your slides at http://127.0.0.1:8000/Slides.slides.html\n",
      "Use Control-C to stop this server\n",
      "WARNING:tornado.access:404 GET /custom.css (127.0.0.1) 0.97ms\n",
      "WARNING:tornado.access:404 GET /custom.css (127.0.0.1) 0.68ms\n"
     ]
    }
   ],
   "source": [
    "!jupyter nbconvert Slides.ipynb --to slides --post serve"
   ]
  },
  {
   "cell_type": "code",
   "execution_count": null,
   "metadata": {},
   "outputs": [],
   "source": []
  }
 ],
 "metadata": {
  "celltoolbar": "Slideshow",
  "kernelspec": {
   "display_name": "Python 3",
   "language": "python",
   "name": "python3"
  },
  "language_info": {
   "codemirror_mode": {
    "name": "ipython",
    "version": 3
   },
   "file_extension": ".py",
   "mimetype": "text/x-python",
   "name": "python",
   "nbconvert_exporter": "python",
   "pygments_lexer": "ipython3",
   "version": "3.5.2"
  }
 },
 "nbformat": 4,
 "nbformat_minor": 2
}
